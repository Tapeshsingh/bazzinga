{
  "cells": [
    {
      "cell_type": "markdown",
      "source": [
        "1. In the below elements which of them are values or an expression?    eg:- values can be integer or string and expressions will be mathematical operators.\n",
        "\n",
        "ANS:-\n",
        "\n",
        "* Expression\n",
        "\"hello\" Value\n",
        "-87.8 Value\n",
        "/ expression\n",
        "+ expression\n",
        "6 Value \n",
        "\n",
        "\n",
        "2. What is the difference between string and variable?\n",
        "ANS:-\n",
        "variable is kind of entity that can hold a value.\n",
        "String is a entity that can be hold in characters\n",
        "\n",
        "3. Describe three different data types.\n",
        "ANS:-\n",
        "string\n",
        "interger\n",
        "float\n",
        "\n",
        "4. What is an expression made up of? What do all expressions do?\n",
        " \n",
        "ANS:-expressions are made up of operants and operators.It gives a Value \n",
        "\n",
        "\n",
        "5. This assignment statements, like spam = 10. What is the difference between an expression and a statement?\n",
        "\n",
        "ANS:-expression will give u a value but statement will not\n",
        "\n",
        "\n",
        "\n",
        "6. After running the following code, what does the variable bacon contain?\n",
        "ANS:-\n",
        "bacon = 22 is Integer\n",
        "bacon + 1 Is ineteger\n",
        "\n",
        "\n"
      ],
      "metadata": {
        "id": "3_bllFgYx4o0"
      }
    },
    {
      "cell_type": "code",
      "source": [
        "bacon = 22"
      ],
      "metadata": {
        "id": "JS4sxpgKfw2X"
      },
      "execution_count": null,
      "outputs": []
    },
    {
      "cell_type": "code",
      "source": [
        "type (bacon)"
      ],
      "metadata": {
        "colab": {
          "base_uri": "https://localhost:8080/"
        },
        "id": "i3yGQ1WXf2Ae",
        "outputId": "702c4bce-f5f7-4a99-f610-46165170198a"
      },
      "execution_count": null,
      "outputs": [
        {
          "output_type": "execute_result",
          "data": {
            "text/plain": [
              "int"
            ]
          },
          "metadata": {},
          "execution_count": 18
        }
      ]
    },
    {
      "cell_type": "code",
      "source": [
        " bacon + 1\n",
        " "
      ],
      "metadata": {
        "colab": {
          "base_uri": "https://localhost:8080/"
        },
        "id": "ZTuZf3Ehf_oe",
        "outputId": "85be4b38-a282-4297-c502-56c3b16af78c"
      },
      "execution_count": null,
      "outputs": [
        {
          "output_type": "execute_result",
          "data": {
            "text/plain": [
              "23"
            ]
          },
          "metadata": {},
          "execution_count": 22
        }
      ]
    },
    {
      "cell_type": "code",
      "source": [
        "type (bacon)"
      ],
      "metadata": {
        "colab": {
          "base_uri": "https://localhost:8080/"
        },
        "id": "KOJxAIBpgSka",
        "outputId": "1eca50d3-d5ff-437e-836c-51e2e75ab44d"
      },
      "execution_count": null,
      "outputs": [
        {
          "output_type": "execute_result",
          "data": {
            "text/plain": [
              "int"
            ]
          },
          "metadata": {},
          "execution_count": 26
        }
      ]
    },
    {
      "cell_type": "markdown",
      "source": [
        "7. What should the values of the following two terms be?\n",
        "\n",
        "'spam'+ 'spamspam'\n",
        "'spam'*3"
      ],
      "metadata": {
        "id": "lGCGNWTufrdR"
      }
    },
    {
      "cell_type": "code",
      "source": [
        "\n",
        "'spam'+ 'spamspam'"
      ],
      "metadata": {
        "colab": {
          "base_uri": "https://localhost:8080/",
          "height": 35
        },
        "id": "ohfS-H-Ee2os",
        "outputId": "e897580c-8c1b-4cba-b2ab-83641c841633"
      },
      "execution_count": null,
      "outputs": [
        {
          "output_type": "execute_result",
          "data": {
            "application/vnd.google.colaboratory.intrinsic+json": {
              "type": "string"
            },
            "text/plain": [
              "'spamspamspam'"
            ]
          },
          "metadata": {},
          "execution_count": 14
        }
      ]
    },
    {
      "cell_type": "code",
      "source": [
        "'spam'*3"
      ],
      "metadata": {
        "colab": {
          "base_uri": "https://localhost:8080/",
          "height": 35
        },
        "id": "wM6Bi40YfbTP",
        "outputId": "4d5cfa9d-8ed0-4eb9-bc75-edacc69066a1"
      },
      "execution_count": null,
      "outputs": [
        {
          "output_type": "execute_result",
          "data": {
            "application/vnd.google.colaboratory.intrinsic+json": {
              "type": "string"
            },
            "text/plain": [
              "'spamspamspam'"
            ]
          },
          "metadata": {},
          "execution_count": 15
        }
      ]
    },
    {
      "cell_type": "markdown",
      "source": [
        "8. Why is eggs a valid variable name while 100 is invalid?\n",
        "\n",
        "ANS:-Name canot start with No. \n"
      ],
      "metadata": {
        "id": "J4ZUzjEmgtQQ"
      }
    },
    {
      "cell_type": "markdown",
      "source": [
        "9. What three functions can be used to get the integer, floating-point number, or string version of a value?"
      ],
      "metadata": {
        "id": "dXLDaBBxidA5"
      }
    },
    {
      "cell_type": "code",
      "source": [
        "int()\n",
        "float()\n",
        "str()\n"
      ],
      "metadata": {
        "id": "zao2jBSEiecf"
      },
      "execution_count": null,
      "outputs": []
    },
    {
      "cell_type": "markdown",
      "source": [
        "Why does this expression cause an error? How can you fix it?\n",
        "\n",
        "'I have eaten ' + 99 + ' burritos.'"
      ],
      "metadata": {
        "id": "eStunvU7izCA"
      }
    },
    {
      "cell_type": "code",
      "source": [
        "\n",
        "A=\"I have eaten\" +str(\"99\") + \"burritos.\""
      ],
      "metadata": {
        "id": "PsWJzLKtiz64"
      },
      "execution_count": null,
      "outputs": []
    }
  ],
  "metadata": {
    "colab": {
      "collapsed_sections": [],
      "name": "Welcome To Colaboratory",
      "toc_visible": true,
      "provenance": []
    },
    "kernelspec": {
      "display_name": "Python 3",
      "name": "python3"
    }
  },
  "nbformat": 4,
  "nbformat_minor": 0
}